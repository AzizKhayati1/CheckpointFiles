{
 "cells": [
  {
   "cell_type": "code",
   "execution_count": 31,
   "id": "ff8b1af3-886b-45d7-aa27-fadddddbdc24",
   "metadata": {},
   "outputs": [
    {
     "data": {
      "text/plain": [
       "'What is Python language?                                                \\nPython is a widely used high-level, general-purpose, interpreted, dynamic programming language.Its design philosophy emphasizes code readability, and its syntax allows programmers to express concepts in fewer lines of code than possible in \\nlanguages such as C++ or Java. \\nPython supports multiple programming paradigms, including object-oriented, imperative and functional programming or procedural styles. It features a dynamic type system and automatic memory management and has a large and comprehensive standard library.The best way we learn anything is by practice and exercise questions. We  have started this section for those (beginner to intermediate) who are familiar with Python.'"
      ]
     },
     "execution_count": 31,
     "metadata": {},
     "output_type": "execute_result"
    }
   ],
   "source": [
    "f = open(r\"C:\\Users\\MSI\\Desktop\\python.txt\",\"rt\",encoding = 'utf-8')\n",
    "f.read()\n"
   ]
  },
  {
   "cell_type": "code",
   "execution_count": 44,
   "id": "ec19a71c-c63d-4bcc-ac87-215dce322dd1",
   "metadata": {},
   "outputs": [
    {
     "name": "stdin",
     "output_type": "stream",
     "text": [
      "write down the number of lines you want to read :  4\n"
     ]
    },
    {
     "name": "stdout",
     "output_type": "stream",
     "text": [
      "['What is Python language?                                                \\n']\n",
      "['Python is a widely used high-level, general-purpose, interpreted, dynamic programming language.Its design philosophy emphasizes code readability, and its syntax allows programmers to express concepts in fewer lines of code than possible in \\n']\n",
      "['languages such as C++ or Java. \\n']\n",
      "['Python supports multiple programming paradigms, including object-oriented, imperative and functional programming or procedural styles. It features a dynamic type system and automatic memory management and has a large and comprehensive standard library.The best way we learn anything is by practice and exercise questions. We  have started this section for those (beginner to intermediate) who are familiar with Python.']\n"
     ]
    }
   ],
   "source": [
    "f = open(r\"C:\\Users\\MSI\\Desktop\\python.txt\",\"rt\",encoding = 'utf-8')\n",
    "n = int(input(\"write down the number of lines you want to read : \"))\n",
    "for i in range(n) :\n",
    "    print(f.readlines(n))"
   ]
  },
  {
   "cell_type": "code",
   "execution_count": 47,
   "id": "30b1d929-5719-42f7-a765-48f313790133",
   "metadata": {},
   "outputs": [
    {
     "name": "stdin",
     "output_type": "stream",
     "text": [
      "write down the number of lines you want to read :  1\n"
     ]
    },
    {
     "name": "stdout",
     "output_type": "stream",
     "text": [
      "['Python supports multiple programming paradigms, including object-oriented, imperative and functional programming or procedural styles. It features a dynamic type system and automatic memory management and has a large and comprehensive standard library.The best way we learn anything is by practice and exercise questions. We  have started this section for those (beginner to intermediate) who are familiar with Python.']\n"
     ]
    }
   ],
   "source": [
    "f = open(r\"C:\\Users\\MSI\\Desktop\\python.txt\",\"rt\",encoding = 'utf-8')\n",
    "n = int(input(\"write down the number of lines you want to read : \"))\n",
    "lines = f. readlines()\n",
    "last_lines = lines[-n:]\n",
    "print(last_lines)\n"
   ]
  },
  {
   "cell_type": "code",
   "execution_count": 48,
   "id": "e882edf0-b40b-4afb-bddb-51feb37e66ac",
   "metadata": {},
   "outputs": [
    {
     "name": "stdout",
     "output_type": "stream",
     "text": [
      "number of words is : 100\n"
     ]
    }
   ],
   "source": [
    "f = open(r\"C:\\Users\\MSI\\Desktop\\python.txt\",\"rt\",encoding = 'utf-8')\n",
    "data = f.read()\n",
    "words = data.split()\n",
    "print(\"number of words is :\",len(words))"
   ]
  },
  {
   "cell_type": "code",
   "execution_count": null,
   "id": "40bc7af5-c6a4-4cec-aaad-c3346861f6b3",
   "metadata": {},
   "outputs": [],
   "source": []
  }
 ],
 "metadata": {
  "kernelspec": {
   "display_name": "Python 3",
   "language": "python",
   "name": "python3"
  },
  "language_info": {
   "codemirror_mode": {
    "name": "ipython",
    "version": 3
   },
   "file_extension": ".py",
   "mimetype": "text/x-python",
   "name": "python",
   "nbconvert_exporter": "python",
   "pygments_lexer": "ipython3",
   "version": "3.8.8"
  }
 },
 "nbformat": 4,
 "nbformat_minor": 5
}
